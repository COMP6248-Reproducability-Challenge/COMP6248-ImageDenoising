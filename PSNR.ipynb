{
 "cells": [
  {
   "cell_type": "code",
   "execution_count": 1,
   "id": "45b7778d",
   "metadata": {},
   "outputs": [],
   "source": [
    "from PIL import Image\n",
    "import numpy as np\n",
    "\n",
    "#https://dsp.stackexchange.com/questions/71845/defining-the-snr-or-psnr-for-color-images-3-channel-rgb-files\n",
    "#https://stackoverflow.com/questions/16264141/power-signal-noise-ratio-psnr-of-colored-jpeg-image\n",
    "\n",
    "#// Calculate PSNR\n",
    "def PSNR(Clean, Noisy):\n",
    "    M = Noisy.shape[0]\n",
    "    N = Noisy.shape[1]\n",
    "\n",
    "    sumDiff = 0\n",
    "    for m in range(M):\n",
    "        for n in range(N):\n",
    "            R = np.square(int(Clean[m,n,0]) - int(Noisy[m,n,0]))\n",
    "            G = np.square(int(Clean[m,n,1]) - int(Noisy[m,n,1]))\n",
    "            B = np.square(int(Clean[m,n,2]) - int(Noisy[m,n,2]))\n",
    "            sumDiff = sumDiff + np.sqrt(R + G + B)\n",
    "\n",
    "    MSE = sumDiff/(M*N)\n",
    "    PSNR = 10*np.log10(3*255*255/MSE)\n",
    "    return PSNR  "
   ]
  },
  {
   "cell_type": "code",
   "execution_count": 5,
   "id": "4c89be45",
   "metadata": {},
   "outputs": [
    {
     "name": "stdout",
     "output_type": "stream",
     "text": [
      "39.67934711123992\n"
     ]
    }
   ],
   "source": [
    "imClean = Image.open('Clean Image 1.png')\n",
    "imNoisy = Image.open('Noisy Image 1.png')\n",
    "#imClean.show()\n",
    "#imNoisy.show()\n",
    "\n",
    "Clean = np.array(imClean)\n",
    "Noisy = np.array(imNoisy)\n",
    "\n",
    "print(PSNR(Clean, Noisy))"
   ]
  },
  {
   "cell_type": "code",
   "execution_count": null,
   "id": "f1ca86f5",
   "metadata": {},
   "outputs": [],
   "source": []
  }
 ],
 "metadata": {
  "kernelspec": {
   "display_name": "Python 3",
   "language": "python",
   "name": "python3"
  },
  "language_info": {
   "codemirror_mode": {
    "name": "ipython",
    "version": 3
   },
   "file_extension": ".py",
   "mimetype": "text/x-python",
   "name": "python",
   "nbconvert_exporter": "python",
   "pygments_lexer": "ipython3",
   "version": "3.8.8"
  }
 },
 "nbformat": 4,
 "nbformat_minor": 5
}
