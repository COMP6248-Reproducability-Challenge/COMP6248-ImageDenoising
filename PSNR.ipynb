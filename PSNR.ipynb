{
 "cells": [
  {
   "cell_type": "code",
   "execution_count": 1,
   "id": "b51f960c",
   "metadata": {},
   "outputs": [],
   "source": [
    "import numpy as np\n",
    "\n",
    "#// Calculate PSNR\n",
    "def PSNR(Clean, Noisy):\n",
    "\n",
    "    M = Noisy.shape[0]\n",
    "    N = Noisy.shape[1]\n",
    "\n",
    "    sumDiff = 0\n",
    "    \n",
    "    # If image is RGB:\n",
    "    if(len(Noisy.shape) == 3):\n",
    "        for m in range(M):\n",
    "            for n in range(N):\n",
    "                R = np.square(int(Clean[m,n,0]) - int(Noisy[m,n,0]))\n",
    "                G = np.square(int(Clean[m,n,1]) - int(Noisy[m,n,1]))\n",
    "                B = np.square(int(Clean[m,n,2]) - int(Noisy[m,n,2]))\n",
    "                sumDiff = sumDiff + (R + G + B)/3\n",
    "                \n",
    "    # Else image is greyscale\n",
    "    else:\n",
    "        for m in range(M):\n",
    "            for n in range(N):\n",
    "                sumDiff = sumDiff + np.square(int(Clean[m,n]) - int(Noisy[m,n]))\n",
    "                \n",
    "\n",
    "    MSE = sumDiff/(M*N)\n",
    "    PSNR = 10*np.log10(255*255/MSE)\n",
    "    \n",
    "    return PSNR  "
   ]
  },
  {
   "cell_type": "code",
   "execution_count": null,
   "id": "25ecc73f",
   "metadata": {},
   "outputs": [],
   "source": []
  }
 ],
 "metadata": {
  "kernelspec": {
   "display_name": "Python 3",
   "language": "python",
   "name": "python3"
  },
  "language_info": {
   "codemirror_mode": {
    "name": "ipython",
    "version": 3
   },
   "file_extension": ".py",
   "mimetype": "text/x-python",
   "name": "python",
   "nbconvert_exporter": "python",
   "pygments_lexer": "ipython3",
   "version": "3.8.8"
  }
 },
 "nbformat": 4,
 "nbformat_minor": 5
}
